{
 "cells": [
  {
   "cell_type": "markdown",
   "metadata": {},
   "source": [
    "### Upload the Data"
   ]
  },
  {
   "cell_type": "code",
   "execution_count": 2,
   "metadata": {},
   "outputs": [],
   "source": [
    "import numpy as np \n",
    "from sklearn.datasets import fetch_openml\n",
    "mnist = fetch_openml('mnist_784', version=1, cache=True)\n",
    "\n",
    "X = mnist[\"data\"]\n",
    "y = mnist[\"target\"].astype(np.uint8)\n",
    "\n",
    "X_train = X[:60000]\n",
    "y_train = y[:60000]\n",
    "X_test = X[60000:]\n",
    "y_test = y[60000:]"
   ]
  },
  {
   "cell_type": "markdown",
   "metadata": {},
   "source": [
    "### Make a LinearSVC without scale"
   ]
  },
  {
   "cell_type": "code",
   "execution_count": 3,
   "metadata": {},
   "outputs": [
    {
     "name": "stderr",
     "output_type": "stream",
     "text": [
      "C:\\Anaconda3\\lib\\site-packages\\sklearn\\svm\\_base.py:977: ConvergenceWarning: Liblinear failed to converge, increase the number of iterations.\n",
      "  \"the number of iterations.\", ConvergenceWarning)\n"
     ]
    },
    {
     "data": {
      "text/plain": [
       "LinearSVC(random_state=42)"
      ]
     },
     "execution_count": 3,
     "metadata": {},
     "output_type": "execute_result"
    }
   ],
   "source": [
    "from sklearn.svm import LinearSVC\n",
    "\n",
    "lin_clf = LinearSVC(random_state=42)\n",
    "lin_clf.fit(X_train, y_train)"
   ]
  },
  {
   "cell_type": "code",
   "execution_count": 4,
   "metadata": {},
   "outputs": [
    {
     "data": {
      "text/plain": [
       "0.8348666666666666"
      ]
     },
     "execution_count": 4,
     "metadata": {},
     "output_type": "execute_result"
    }
   ],
   "source": [
    "from sklearn.metrics import accuracy_score\n",
    "\n",
    "y_pred = lin_clf.predict(X_train)\n",
    "accuracy_score(y_train, y_pred)"
   ]
  },
  {
   "cell_type": "markdown",
   "metadata": {},
   "source": [
    "### Scale it for better performance"
   ]
  },
  {
   "cell_type": "code",
   "execution_count": 8,
   "metadata": {},
   "outputs": [],
   "source": [
    "from sklearn.preprocessing import StandardScaler\n",
    "\n",
    "scaler = StandardScaler()\n",
    "X_train_scaled = scaler.fit_transform(X_train.astype(np.float32))\n",
    "X_test_scaled = scaler.transform(X_test.astype(np.float32))"
   ]
  },
  {
   "cell_type": "code",
   "execution_count": 9,
   "metadata": {},
   "outputs": [
    {
     "name": "stderr",
     "output_type": "stream",
     "text": [
      "C:\\Anaconda3\\lib\\site-packages\\sklearn\\svm\\_base.py:977: ConvergenceWarning: Liblinear failed to converge, increase the number of iterations.\n",
      "  \"the number of iterations.\", ConvergenceWarning)\n"
     ]
    },
    {
     "data": {
      "text/plain": [
       "0.9217333333333333"
      ]
     },
     "execution_count": 9,
     "metadata": {},
     "output_type": "execute_result"
    }
   ],
   "source": [
    "lin_clf.fit(X_train_scaled, y_train)\n",
    "\n",
    "y_pred_scaled = lin_clf.predict(X_train_scaled)\n",
    "accuracy_score(y_train, y_pred_scaled)"
   ]
  },
  {
   "cell_type": "markdown",
   "metadata": {},
   "source": [
    "### Make a SVC"
   ]
  },
  {
   "cell_type": "code",
   "execution_count": 10,
   "metadata": {},
   "outputs": [
    {
     "data": {
      "text/plain": [
       "SVC()"
      ]
     },
     "execution_count": 10,
     "metadata": {},
     "output_type": "execute_result"
    }
   ],
   "source": [
    "from sklearn.svm import SVC\n",
    "\n",
    "svm_clf = SVC(gamma = \"scale\")\n",
    "svm_clf.fit(X_train_scaled[:10000], y_train[:10000])"
   ]
  },
  {
   "cell_type": "markdown",
   "metadata": {},
   "source": [
    "### Randomized Search"
   ]
  },
  {
   "cell_type": "code",
   "execution_count": 11,
   "metadata": {},
   "outputs": [
    {
     "name": "stdout",
     "output_type": "stream",
     "text": [
      "Fitting 3 folds for each of 10 candidates, totalling 30 fits\n",
      "[CV] C=8.889188010944777, gamma=0.029400829976050615 .................\n"
     ]
    },
    {
     "name": "stderr",
     "output_type": "stream",
     "text": [
      "[Parallel(n_jobs=1)]: Using backend SequentialBackend with 1 concurrent workers.\n"
     ]
    },
    {
     "name": "stdout",
     "output_type": "stream",
     "text": [
      "[CV] .. C=8.889188010944777, gamma=0.029400829976050615, total=   0.9s\n",
      "[CV] C=8.889188010944777, gamma=0.029400829976050615 .................\n"
     ]
    },
    {
     "name": "stderr",
     "output_type": "stream",
     "text": [
      "[Parallel(n_jobs=1)]: Done   1 out of   1 | elapsed:    0.8s remaining:    0.0s\n"
     ]
    },
    {
     "name": "stdout",
     "output_type": "stream",
     "text": [
      "[CV] .. C=8.889188010944777, gamma=0.029400829976050615, total=   0.8s\n",
      "[CV] C=8.889188010944777, gamma=0.029400829976050615 .................\n",
      "[CV] .. C=8.889188010944777, gamma=0.029400829976050615, total=   0.9s\n",
      "[CV] C=7.349277883036248, gamma=0.024441859021298133 .................\n",
      "[CV] .. C=7.349277883036248, gamma=0.024441859021298133, total=   0.8s\n",
      "[CV] C=7.349277883036248, gamma=0.024441859021298133 .................\n",
      "[CV] .. C=7.349277883036248, gamma=0.024441859021298133, total=   0.8s\n",
      "[CV] C=7.349277883036248, gamma=0.024441859021298133 .................\n",
      "[CV] .. C=7.349277883036248, gamma=0.024441859021298133, total=   0.8s\n",
      "[CV] C=4.069640947464349, gamma=0.011062981065015045 .................\n",
      "[CV] .. C=4.069640947464349, gamma=0.011062981065015045, total=   0.8s\n",
      "[CV] C=4.069640947464349, gamma=0.011062981065015045 .................\n",
      "[CV] .. C=4.069640947464349, gamma=0.011062981065015045, total=   0.8s\n",
      "[CV] C=4.069640947464349, gamma=0.011062981065015045 .................\n",
      "[CV] .. C=4.069640947464349, gamma=0.011062981065015045, total=   0.8s\n",
      "[CV] C=5.15030053297823, gamma=0.002034844594219033 ..................\n",
      "[CV] ... C=5.15030053297823, gamma=0.002034844594219033, total=   0.7s\n",
      "[CV] C=5.15030053297823, gamma=0.002034844594219033 ..................\n",
      "[CV] ... C=5.15030053297823, gamma=0.002034844594219033, total=   0.7s\n",
      "[CV] C=5.15030053297823, gamma=0.002034844594219033 ..................\n",
      "[CV] ... C=5.15030053297823, gamma=0.002034844594219033, total=   0.7s\n",
      "[CV] C=3.113610546367073, gamma=0.055768305685445524 .................\n",
      "[CV] .. C=3.113610546367073, gamma=0.055768305685445524, total=   0.8s\n",
      "[CV] C=3.113610546367073, gamma=0.055768305685445524 .................\n",
      "[CV] .. C=3.113610546367073, gamma=0.055768305685445524, total=   0.9s\n",
      "[CV] C=3.113610546367073, gamma=0.055768305685445524 .................\n",
      "[CV] .. C=3.113610546367073, gamma=0.055768305685445524, total=   0.8s\n",
      "[CV] C=5.2379481657156015, gamma=0.07649399629544867 .................\n",
      "[CV] .. C=5.2379481657156015, gamma=0.07649399629544867, total=   0.8s\n",
      "[CV] C=5.2379481657156015, gamma=0.07649399629544867 .................\n",
      "[CV] .. C=5.2379481657156015, gamma=0.07649399629544867, total=   0.9s\n",
      "[CV] C=5.2379481657156015, gamma=0.07649399629544867 .................\n",
      "[CV] .. C=5.2379481657156015, gamma=0.07649399629544867, total=   0.8s\n",
      "[CV] C=6.032238805622647, gamma=0.08028586208268275 ..................\n",
      "[CV] ... C=6.032238805622647, gamma=0.08028586208268275, total=   0.8s\n",
      "[CV] C=6.032238805622647, gamma=0.08028586208268275 ..................\n",
      "[CV] ... C=6.032238805622647, gamma=0.08028586208268275, total=   0.9s\n",
      "[CV] C=6.032238805622647, gamma=0.08028586208268275 ..................\n",
      "[CV] ... C=6.032238805622647, gamma=0.08028586208268275, total=   0.8s\n",
      "[CV] C=2.667806099931707, gamma=0.013720508926912834 .................\n",
      "[CV] .. C=2.667806099931707, gamma=0.013720508926912834, total=   0.8s\n",
      "[CV] C=2.667806099931707, gamma=0.013720508926912834 .................\n",
      "[CV] .. C=2.667806099931707, gamma=0.013720508926912834, total=   0.8s\n",
      "[CV] C=2.667806099931707, gamma=0.013720508926912834 .................\n",
      "[CV] .. C=2.667806099931707, gamma=0.013720508926912834, total=   0.8s\n",
      "[CV] C=5.713826970803545, gamma=0.07847486308372378 ..................\n",
      "[CV] ... C=5.713826970803545, gamma=0.07847486308372378, total=   0.9s\n",
      "[CV] C=5.713826970803545, gamma=0.07847486308372378 ..................\n",
      "[CV] ... C=5.713826970803545, gamma=0.07847486308372378, total=   0.8s\n",
      "[CV] C=5.713826970803545, gamma=0.07847486308372378 ..................\n",
      "[CV] ... C=5.713826970803545, gamma=0.07847486308372378, total=   0.8s\n",
      "[CV] C=2.254177653132081, gamma=0.07867889915538642 ..................\n",
      "[CV] ... C=2.254177653132081, gamma=0.07867889915538642, total=   0.8s\n",
      "[CV] C=2.254177653132081, gamma=0.07867889915538642 ..................\n",
      "[CV] ... C=2.254177653132081, gamma=0.07867889915538642, total=   0.8s\n",
      "[CV] C=2.254177653132081, gamma=0.07867889915538642 ..................\n",
      "[CV] ... C=2.254177653132081, gamma=0.07867889915538642, total=   0.9s\n"
     ]
    },
    {
     "name": "stderr",
     "output_type": "stream",
     "text": [
      "[Parallel(n_jobs=1)]: Done  30 out of  30 | elapsed:   24.7s finished\n"
     ]
    },
    {
     "data": {
      "text/plain": [
       "RandomizedSearchCV(cv=3, estimator=SVC(),\n",
       "                   param_distributions={'C': <scipy.stats._distn_infrastructure.rv_frozen object at 0x0000029689692F88>,\n",
       "                                        'gamma': <scipy.stats._distn_infrastructure.rv_frozen object at 0x0000029689692648>},\n",
       "                   verbose=2)"
      ]
     },
     "execution_count": 11,
     "metadata": {},
     "output_type": "execute_result"
    }
   ],
   "source": [
    "from sklearn.model_selection import RandomizedSearchCV\n",
    "from scipy.stats import reciprocal, uniform\n",
    "\n",
    "param_distributions = {\"gamma\": reciprocal(0.001, 0.1), \"C\": uniform(1, 10)}\n",
    "rnd_search_cv = RandomizedSearchCV(svm_clf, param_distributions, n_iter=10, verbose=2, cv=3)\n",
    "rnd_search_cv.fit(X_train_scaled[:1000], y_train[:1000])"
   ]
  },
  {
   "cell_type": "code",
   "execution_count": 12,
   "metadata": {},
   "outputs": [
    {
     "data": {
      "text/plain": [
       "SVC(C=5.15030053297823, gamma=0.002034844594219033)"
      ]
     },
     "execution_count": 12,
     "metadata": {},
     "output_type": "execute_result"
    }
   ],
   "source": [
    "rnd_search_cv.best_estimator_"
   ]
  },
  {
   "cell_type": "code",
   "execution_count": null,
   "metadata": {},
   "outputs": [],
   "source": [
    "rnd_search_cv.best_score_"
   ]
  },
  {
   "cell_type": "code",
   "execution_count": null,
   "metadata": {},
   "outputs": [],
   "source": [
    "rnd_search_cv.best_estimator_.fit(X_train_scaled, y_train)"
   ]
  },
  {
   "cell_type": "code",
   "execution_count": null,
   "metadata": {},
   "outputs": [],
   "source": [
    "y_pred = rnd_search_cv.best_estimator_.predict(X_train_scaled)\n",
    "accuracy_score(y_train, y_pred)"
   ]
  },
  {
   "cell_type": "code",
   "execution_count": null,
   "metadata": {},
   "outputs": [],
   "source": [
    "\n",
    "y_pred = rnd_search_cv.best_estimator_.predict(X_test_scaled)\n",
    "accuracy_score(y_test, y_pred)"
   ]
  },
  {
   "cell_type": "code",
   "execution_count": null,
   "metadata": {},
   "outputs": [],
   "source": []
  }
 ],
 "metadata": {
  "kernelspec": {
   "display_name": "Python 3",
   "language": "python",
   "name": "python3"
  },
  "language_info": {
   "codemirror_mode": {
    "name": "ipython",
    "version": 3
   },
   "file_extension": ".py",
   "mimetype": "text/x-python",
   "name": "python",
   "nbconvert_exporter": "python",
   "pygments_lexer": "ipython3",
   "version": "3.7.6"
  }
 },
 "nbformat": 4,
 "nbformat_minor": 4
}
